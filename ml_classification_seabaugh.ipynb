{
 "cells": [
  {
   "cell_type": "markdown",
   "id": "783e8e71",
   "metadata": {},
   "source": [
    "# Clayton Seabaugh: Midterm Project\n",
    "**Author:** Clayton Seabaugh  \n",
    "**Date:** 3-6-2025  \n",
    "**Objective:** This project demonstrates my ability to apply classification modeling techniques to a real-world dataset. "
   ]
  },
  {
   "cell_type": "markdown",
   "id": "739cf535",
   "metadata": {},
   "source": [
    "## Section 1: Import and Inspect the Data"
   ]
  },
  {
   "cell_type": "markdown",
   "id": "c0c9b4c0",
   "metadata": {},
   "source": [
    "### Section 1.1 Import modules and inspect first 10 rows"
   ]
  },
  {
   "cell_type": "code",
   "execution_count": 39,
   "id": "97f61b80",
   "metadata": {},
   "outputs": [
    {
     "name": "stdout",
     "output_type": "stream",
     "text": [
      "{'uci_id': 267, 'name': 'Banknote Authentication', 'repository_url': 'https://archive.ics.uci.edu/dataset/267/banknote+authentication', 'data_url': 'https://archive.ics.uci.edu/static/public/267/data.csv', 'abstract': 'Data were extracted from images that were taken for the evaluation of an authentication procedure for banknotes.', 'area': 'Computer Science', 'tasks': ['Classification'], 'characteristics': ['Multivariate'], 'num_instances': 1372, 'num_features': 4, 'feature_types': ['Real'], 'demographics': [], 'target_col': ['class'], 'index_col': None, 'has_missing_values': 'no', 'missing_values_symbol': None, 'year_of_dataset_creation': 2012, 'last_updated': 'Fri Feb 16 2024', 'dataset_doi': '10.24432/C55P57', 'creators': ['Volker Lohweg'], 'intro_paper': None, 'additional_info': {'summary': 'Data were extracted from images that were taken from genuine and forged banknote-like specimens.  For digitization, an industrial camera usually used for print inspection was used. The final images have 400x 400 pixels. Due to the object lens and distance to the investigated object gray-scale pictures with a resolution of about 660 dpi were gained. Wavelet Transform tool were used to extract features from images.  ', 'purpose': None, 'funded_by': None, 'instances_represent': None, 'recommended_data_splits': None, 'sensitive_data': None, 'preprocessing_description': None, 'variable_info': '       1. variance of Wavelet Transformed image (continuous) \\r\\n       2. skewness of Wavelet Transformed image (continuous)\\r\\n       3. curtosis of Wavelet Transformed image (continuous)\\r\\n       4. entropy of image (continuous)\\r\\n       5. class (integer) \\r\\n', 'citation': None}}\n",
      "       name     role        type demographic  \\\n",
      "0  variance  Feature  Continuous        None   \n",
      "1  skewness  Feature  Continuous        None   \n",
      "2  curtosis  Feature  Continuous        None   \n",
      "3   entropy  Feature  Continuous        None   \n",
      "4     class   Target     Integer        None   \n",
      "\n",
      "                             description units missing_values  \n",
      "0  variance of Wavelet Transformed image  None             no  \n",
      "1  skewness of Wavelet Transformed image  None             no  \n",
      "2  curtosis of Wavelet Transformed image  None             no  \n",
      "3                       entropy of image  None             no  \n",
      "4                                   None  None             no  \n"
     ]
    }
   ],
   "source": [
    "# Imports needed\n",
    "import seaborn as sns\n",
    "import pandas as pd\n",
    "import matplotlib.pyplot as plt\n",
    "import os\n",
    "from ucimlrepo import fetch_ucirepo \n",
    "  \n",
    "# fetch dataset \n",
    "banknote_authentication = fetch_ucirepo(id=267) \n",
    "  \n",
    "# data (as pandas dataframes) \n",
    "X = banknote_authentication.data.features \n",
    "y = banknote_authentication.data.targets \n",
    "  \n",
    "# metadata \n",
    "print(banknote_authentication.metadata) \n",
    "  \n",
    "# variable information \n",
    "print(banknote_authentication.variables) \n"
   ]
  },
  {
   "cell_type": "code",
   "execution_count": 40,
   "id": "398053ef",
   "metadata": {},
   "outputs": [
    {
     "name": "stdout",
     "output_type": "stream",
     "text": [
      "   variance  skewness  curtiosis  entropy  class\n",
      "0   3.62160    8.6661   -2.80730 -0.44699      0\n",
      "1   4.54590    8.1674   -2.45860 -1.46210      0\n",
      "2   3.86600   -2.6383    1.92420  0.10645      0\n",
      "3   3.45660    9.5228   -4.01120 -3.59440      0\n",
      "4   0.32924   -4.4552    4.57180 -0.98880      0\n",
      "5   4.36840    9.6718   -3.96060 -3.16250      0\n",
      "6   3.59120    3.0129    0.72888  0.56421      0\n",
      "7   2.09220   -6.8100    8.46360 -0.60216      0\n",
      "8   3.20320    5.7588   -0.75345 -0.61251      0\n",
      "9   1.53560    9.1772   -2.27180 -0.73535      0\n"
     ]
    },
    {
     "name": "stderr",
     "output_type": "stream",
     "text": [
      "<>:2: SyntaxWarning: invalid escape sequence '\\d'\n",
      "<>:2: SyntaxWarning: invalid escape sequence '\\d'\n",
      "C:\\Users\\clayt\\AppData\\Local\\Temp\\ipykernel_15808\\722488926.py:2: SyntaxWarning: invalid escape sequence '\\d'\n",
      "  file_path = 'data\\data_banknote_authentication.txt'\n"
     ]
    }
   ],
   "source": [
    "# Create file path for data and print head\n",
    "file_path = 'data\\data_banknote_authentication.txt'\n",
    "if os.path.exists(file_path):\n",
    "    # Read and print df\n",
    "    df = pd.read_csv(file_path)\n",
    "    print(df.head(10))\n",
    "else:\n",
    "    print(f\"File {file_path} does not exist.\")\n",
    "\n"
   ]
  },
  {
   "cell_type": "markdown",
   "id": "1e7bafa9",
   "metadata": {},
   "source": [
    "### Section 1.2 Check for missing values and display summary statitistics"
   ]
  },
  {
   "cell_type": "code",
   "execution_count": 41,
   "id": "8cbe14e7",
   "metadata": {},
   "outputs": [
    {
     "name": "stdout",
     "output_type": "stream",
     "text": [
      "Missing Values in each Column:\n",
      "variance     0\n",
      "skewness     0\n",
      "curtiosis    0\n",
      "entropy      0\n",
      "class        0\n",
      "dtype: int64\n",
      "Summary Statistics:\n",
      "          variance     skewness    curtiosis      entropy        class\n",
      "count  1372.000000  1372.000000  1372.000000  1372.000000  1372.000000\n",
      "mean      0.433735     1.922353     1.397627    -1.191657     0.444606\n",
      "std       2.842763     5.869047     4.310030     2.101013     0.497103\n",
      "min      -7.042100   -13.773100    -5.286100    -8.548200     0.000000\n",
      "25%      -1.773000    -1.708200    -1.574975    -2.413450     0.000000\n",
      "50%       0.496180     2.319650     0.616630    -0.586650     0.000000\n",
      "75%       2.821475     6.814625     3.179250     0.394810     1.000000\n",
      "max       6.824800    12.951600    17.927400     2.449500     1.000000\n"
     ]
    }
   ],
   "source": [
    "# Check for missing values\n",
    "missing_values = df.isnull().sum()\n",
    "print(f\"Missing Values in each Column:\\n{missing_values}\")\n",
    "\n",
    "# Generate summary statistics\n",
    "summary_stats = df.describe()\n",
    "print (f\"Summary Statistics:\\n{summary_stats}\")"
   ]
  },
  {
   "cell_type": "markdown",
   "id": "ec945d85",
   "metadata": {},
   "source": [
    "### Reflection 1:\n",
    "- What do you notice about the dataset? Are there any data issues? I notice that there are no null values and that the dataset is primarily float numbers except class which are integers. I can see it is a rather large dataset with 1372 rows. "
   ]
  },
  {
   "cell_type": "markdown",
   "id": "71421f4f",
   "metadata": {},
   "source": [
    "## Section 2: Data Exploration and Preparation"
   ]
  },
  {
   "cell_type": "markdown",
   "id": "557a9561",
   "metadata": {},
   "source": [
    "### Section 2.1 Explore data patterns and distributions"
   ]
  },
  {
   "cell_type": "code",
   "execution_count": 42,
   "id": "c80f2da4",
   "metadata": {},
   "outputs": [
    {
     "data": {
      "text/plain": [
       "<function matplotlib.pyplot.show(close=None, block=None)>"
      ]
     },
     "execution_count": 42,
     "metadata": {},
     "output_type": "execute_result"
    },
    {
     "data": {
      "image/png": "[encoded data removed]",
      "text/plain": [
       "<Figure size 1000x800 with 6 Axes>"
      ]
     },
     "metadata": {},
     "output_type": "display_data"
    }
   ],
   "source": [
    "# Create a Histo visualization feature distributions\n",
    "df.hist(bins=30, figsize=(10, 8))\n",
    "plt.suptitle('Histograms Feature Distributions')\n",
    "plt.show"
   ]
  },
  {
   "cell_type": "code",
   "execution_count": null,
   "id": "fdce24b3",
   "metadata": {},
   "outputs": [],
   "source": [
    "# Create a box plot to show outlier"
   ]
  },
  {
   "cell_type": "markdown",
   "id": "8732b091",
   "metadata": {},
   "source": [
    "### Section 2.2 Handle missing values and clean data"
   ]
  },
  {
   "cell_type": "code",
   "execution_count": null,
   "id": "c7c99c1a",
   "metadata": {},
   "outputs": [],
   "source": []
  },
  {
   "cell_type": "markdown",
   "id": "e635874d",
   "metadata": {},
   "source": [
    "### Section 2.3 Features selection and engineering"
   ]
  },
  {
   "cell_type": "markdown",
   "id": "ec61dbb4",
   "metadata": {},
   "source": []
  }
 ],
 "metadata": {
  "kernelspec": {
   "display_name": ".venv",
   "language": "python",
   "name": "python3"
  },
  "language_info": {
   "codemirror_mode": {
    "name": "ipython",
    "version": 3
   },
   "file_extension": ".py",
   "mimetype": "text/x-python",
   "name": "python",
   "nbconvert_exporter": "python",
   "pygments_lexer": "ipython3",
   "version": "3.12.5"
  }
 },
 "nbformat": 4,
 "nbformat_minor": 5
}
