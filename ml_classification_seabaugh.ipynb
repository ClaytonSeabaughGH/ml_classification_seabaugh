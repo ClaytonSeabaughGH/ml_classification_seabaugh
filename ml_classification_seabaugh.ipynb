{
 "cells": [
  {
   "cell_type": "markdown",
   "id": "783e8e71",
   "metadata": {},
   "source": [
    "# Clayton Seabaugh: Midterm Project\n",
    "**Author:** Clayton Seabaugh  \n",
    "**Date:** 3-6-2025  \n",
    "**Objective:** This project demonstrates my ability to apply classification modeling techniques to a real-world dataset. "
   ]
  },
  {
   "cell_type": "markdown",
   "id": "739cf535",
   "metadata": {},
   "source": [
    "## Section 1: Import and Inspect the Data"
   ]
  },
  {
   "cell_type": "markdown",
   "id": "c0c9b4c0",
   "metadata": {},
   "source": [
    "### Section 1.1 Import modules and inspect first 10 rows"
   ]
  },
  {
   "cell_type": "code",
   "execution_count": 9,
   "id": "97f61b80",
   "metadata": {},
   "outputs": [],
   "source": [
    "# Imports needed\n",
    "import seaborn as sns\n",
    "import pandas as pd\n",
    "import matplotlib.pyplot as plt\n",
    "import os"
   ]
  },
  {
   "cell_type": "code",
   "execution_count": null,
   "id": "398053ef",
   "metadata": {},
   "outputs": [
    {
     "name": "stdout",
     "output_type": "stream",
     "text": [
      "   variance  skewness  curtiosis  entropy  class\n",
      "0   3.62160    8.6661   -2.80730 -0.44699      0\n",
      "1   4.54590    8.1674   -2.45860 -1.46210      0\n",
      "2   3.86600   -2.6383    1.92420  0.10645      0\n",
      "3   3.45660    9.5228   -4.01120 -3.59440      0\n",
      "4   0.32924   -4.4552    4.57180 -0.98880      0\n",
      "5   4.36840    9.6718   -3.96060 -3.16250      0\n",
      "6   3.59120    3.0129    0.72888  0.56421      0\n",
      "7   2.09220   -6.8100    8.46360 -0.60216      0\n",
      "8   3.20320    5.7588   -0.75345 -0.61251      0\n",
      "9   1.53560    9.1772   -2.27180 -0.73535      0\n"
     ]
    },
    {
     "name": "stderr",
     "output_type": "stream",
     "text": [
      "<>:2: SyntaxWarning: invalid escape sequence '\\d'\n",
      "<>:2: SyntaxWarning: invalid escape sequence '\\d'\n",
      "C:\\Users\\clayt\\AppData\\Local\\Temp\\ipykernel_15808\\4251896938.py:2: SyntaxWarning: invalid escape sequence '\\d'\n",
      "  file_path = 'data\\data_banknote_authentication.txt'\n"
     ]
    }
   ],
   "source": [
    "# Create file path for data and print head\n",
    "file_path = 'data\\data_banknote_authentication.txt'\n",
    "if os.path.exists(file_path):\n",
    "    # Read and print df\n",
    "    df = pd.read_csv(file_path)\n",
    "    print(df.head(10))\n",
    "else:\n",
    "    print(f\"File {file_path} does not exist.\")\n",
    "\n"
   ]
  },
  {
   "cell_type": "markdown",
   "id": "1e7bafa9",
   "metadata": {},
   "source": [
    "### Section 1.2 Check for missing values and display summary statitistics"
   ]
  },
  {
   "cell_type": "code",
   "execution_count": 35,
   "id": "8cbe14e7",
   "metadata": {},
   "outputs": [
    {
     "name": "stdout",
     "output_type": "stream",
     "text": [
      "Missing Values in each Column:\n",
      "variance     0\n",
      "skewness     0\n",
      "curtiosis    0\n",
      "entropy      0\n",
      "class        0\n",
      "dtype: int64\n",
      "Summary Statistics:\n",
      "          variance     skewness    curtiosis      entropy        class\n",
      "count  1372.000000  1372.000000  1372.000000  1372.000000  1372.000000\n",
      "mean      0.433735     1.922353     1.397627    -1.191657     0.444606\n",
      "std       2.842763     5.869047     4.310030     2.101013     0.497103\n",
      "min      -7.042100   -13.773100    -5.286100    -8.548200     0.000000\n",
      "25%      -1.773000    -1.708200    -1.574975    -2.413450     0.000000\n",
      "50%       0.496180     2.319650     0.616630    -0.586650     0.000000\n",
      "75%       2.821475     6.814625     3.179250     0.394810     1.000000\n",
      "max       6.824800    12.951600    17.927400     2.449500     1.000000\n"
     ]
    }
   ],
   "source": [
    "# Check for missing values\n",
    "missing_values = df.isnull().sum()\n",
    "print(f\"Missing Values in each Column:\\n{missing_values}\")\n",
    "\n",
    "# Generate summary statistics\n",
    "summary_stats = df.describe()\n",
    "print (f\"Summary Statistics:\\n{summary_stats}\")"
   ]
  },
  {
   "cell_type": "markdown",
   "id": "ec945d85",
   "metadata": {},
   "source": [
    "### Reflection 1:\n",
    "- What do you notice about the dataset? Are there any data issues? I notice that there are no null values and that the dataset is primarily float numbers except class which are integers. I can see it is a rather large dataset with 1372 rows. "
   ]
  },
  {
   "cell_type": "code",
   "execution_count": null,
   "id": "c7c99c1a",
   "metadata": {},
   "outputs": [],
   "source": []
  }
 ],
 "metadata": {
  "kernelspec": {
   "display_name": ".venv",
   "language": "python",
   "name": "python3"
  },
  "language_info": {
   "codemirror_mode": {
    "name": "ipython",
    "version": 3
   },
   "file_extension": ".py",
   "mimetype": "text/x-python",
   "name": "python",
   "nbconvert_exporter": "python",
   "pygments_lexer": "ipython3",
   "version": "3.12.5"
  }
 },
 "nbformat": 4,
 "nbformat_minor": 5
}
