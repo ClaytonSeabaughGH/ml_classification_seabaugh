{
 "cells": [
  {
   "cell_type": "markdown",
   "id": "783e8e71",
   "metadata": {},
   "source": [
    "# Clayton Seabaugh: Midterm Project\n",
    "**Author:** Clayton Seabaugh  \n",
    "**Date:** 3-6-2025  \n",
    "**Objective:** This project demonstrates my ability to apply classification modeling techniques to a real-world dataset. "
   ]
  },
  {
   "cell_type": "markdown",
   "id": "739cf535",
   "metadata": {},
   "source": [
    "## Section 1: Import and Inspect the Data"
   ]
  },
  {
   "cell_type": "markdown",
   "id": "c0c9b4c0",
   "metadata": {},
   "source": [
    "### Section 1.1 Import modules and inspect first 10 rows"
   ]
  },
  {
   "cell_type": "code",
   "execution_count": 53,
   "id": "97f61b80",
   "metadata": {},
   "outputs": [
    {
     "name": "stdout",
     "output_type": "stream",
     "text": [
      "{'uci_id': 267, 'name': 'Banknote Authentication', 'repository_url': 'https://archive.ics.uci.edu/dataset/267/banknote+authentication', 'data_url': 'https://archive.ics.uci.edu/static/public/267/data.csv', 'abstract': 'Data were extracted from images that were taken for the evaluation of an authentication procedure for banknotes.', 'area': 'Computer Science', 'tasks': ['Classification'], 'characteristics': ['Multivariate'], 'num_instances': 1372, 'num_features': 4, 'feature_types': ['Real'], 'demographics': [], 'target_col': ['class'], 'index_col': None, 'has_missing_values': 'no', 'missing_values_symbol': None, 'year_of_dataset_creation': 2012, 'last_updated': 'Fri Feb 16 2024', 'dataset_doi': '10.24432/C55P57', 'creators': ['Volker Lohweg'], 'intro_paper': None, 'additional_info': {'summary': 'Data were extracted from images that were taken from genuine and forged banknote-like specimens.  For digitization, an industrial camera usually used for print inspection was used. The final images have 400x 400 pixels. Due to the object lens and distance to the investigated object gray-scale pictures with a resolution of about 660 dpi were gained. Wavelet Transform tool were used to extract features from images.  ', 'purpose': None, 'funded_by': None, 'instances_represent': None, 'recommended_data_splits': None, 'sensitive_data': None, 'preprocessing_description': None, 'variable_info': '       1. variance of Wavelet Transformed image (continuous) \\r\\n       2. skewness of Wavelet Transformed image (continuous)\\r\\n       3. curtosis of Wavelet Transformed image (continuous)\\r\\n       4. entropy of image (continuous)\\r\\n       5. class (integer) \\r\\n', 'citation': None}}\n",
      "       name     role        type demographic  \\\n",
      "0  variance  Feature  Continuous        None   \n",
      "1  skewness  Feature  Continuous        None   \n",
      "2  curtosis  Feature  Continuous        None   \n",
      "3   entropy  Feature  Continuous        None   \n",
      "4     class   Target     Integer        None   \n",
      "\n",
      "                             description units missing_values  \n",
      "0  variance of Wavelet Transformed image  None             no  \n",
      "1  skewness of Wavelet Transformed image  None             no  \n",
      "2  curtosis of Wavelet Transformed image  None             no  \n",
      "3                       entropy of image  None             no  \n",
      "4                                   None  None             no  \n"
     ]
    }
   ],
   "source": [
    "# Imports needed\n",
    "import seaborn as sns\n",
    "import pandas as pd\n",
    "import matplotlib.pyplot as plt\n",
    "import os\n",
    "from scipy.stats import zscore\n",
    "from ucimlrepo import fetch_ucirepo \n",
    "\n",
    "# sklearn modules\n",
    "from sklearn.preprocessing import StandardScaler, PolynomialFeatures, MinMaxScaler\n",
    "from sklearn.linear_model import LogisticRegression\n",
    "from sklearn.model_selection import train_test_split\n",
    "from sklearn.metrics import accuracy_score, precision_score, recall_score, f1_score, confusion_matrix, classification_report\n",
    "\n",
    "# fetch dataset \n",
    "banknote_authentication = fetch_ucirepo(id=267) \n",
    "  \n",
    "# data (as pandas dataframes) \n",
    "X = banknote_authentication.data.features \n",
    "y = banknote_authentication.data.targets \n",
    "  \n",
    "# metadata \n",
    "print(banknote_authentication.metadata) \n",
    "  \n",
    "# variable information \n",
    "print(banknote_authentication.variables) \n"
   ]
  },
  {
   "cell_type": "code",
   "execution_count": 54,
   "id": "398053ef",
   "metadata": {},
   "outputs": [
    {
     "name": "stdout",
     "output_type": "stream",
     "text": [
      "   variance  skewness  curtosis  entropy  class\n",
      "0   3.62160    8.6661  -2.80730 -0.44699      0\n",
      "1   4.54590    8.1674  -2.45860 -1.46210      0\n",
      "2   3.86600   -2.6383   1.92420  0.10645      0\n",
      "3   3.45660    9.5228  -4.01120 -3.59440      0\n",
      "4   0.32924   -4.4552   4.57180 -0.98880      0\n",
      "5   4.36840    9.6718  -3.96060 -3.16250      0\n",
      "6   3.59120    3.0129   0.72888  0.56421      0\n",
      "7   2.09220   -6.8100   8.46360 -0.60216      0\n",
      "8   3.20320    5.7588  -0.75345 -0.61251      0\n",
      "9   1.53560    9.1772  -2.27180 -0.73535      0\n"
     ]
    },
    {
     "name": "stderr",
     "output_type": "stream",
     "text": [
      "<>:2: SyntaxWarning: invalid escape sequence '\\d'\n",
      "<>:2: SyntaxWarning: invalid escape sequence '\\d'\n",
      "C:\\Users\\clayt\\AppData\\Local\\Temp\\ipykernel_15124\\722488926.py:2: SyntaxWarning: invalid escape sequence '\\d'\n",
      "  file_path = 'data\\data_banknote_authentication.txt'\n"
     ]
    }
   ],
   "source": [
    "# Create file path for data and print head\n",
    "file_path = 'data\\data_banknote_authentication.txt'\n",
    "if os.path.exists(file_path):\n",
    "    # Read and print df\n",
    "    df = pd.read_csv(file_path)\n",
    "    print(df.head(10))\n",
    "else:\n",
    "    print(f\"File {file_path} does not exist.\")\n",
    "\n"
   ]
  },
  {
   "cell_type": "markdown",
   "id": "1e7bafa9",
   "metadata": {},
   "source": [
    "### Section 1.2 Check for missing values and display summary statitistics"
   ]
  },
  {
   "cell_type": "code",
   "execution_count": 55,
   "id": "8cbe14e7",
   "metadata": {},
   "outputs": [
    {
     "name": "stdout",
     "output_type": "stream",
     "text": [
      "Missing Values in each Column:\n",
      "variance    0\n",
      "skewness    0\n",
      "curtosis    0\n",
      "entropy     0\n",
      "class       0\n",
      "dtype: int64\n",
      "Summary Statistics:\n",
      "          variance     skewness     curtosis      entropy        class\n",
      "count  1372.000000  1372.000000  1372.000000  1372.000000  1372.000000\n",
      "mean      0.433735     1.922353     1.397627    -1.191657     0.444606\n",
      "std       2.842763     5.869047     4.310030     2.101013     0.497103\n",
      "min      -7.042100   -13.773100    -5.286100    -8.548200     0.000000\n",
      "25%      -1.773000    -1.708200    -1.574975    -2.413450     0.000000\n",
      "50%       0.496180     2.319650     0.616630    -0.586650     0.000000\n",
      "75%       2.821475     6.814625     3.179250     0.394810     1.000000\n",
      "max       6.824800    12.951600    17.927400     2.449500     1.000000\n"
     ]
    }
   ],
   "source": [
    "# Check for missing values\n",
    "missing_values = df.isnull().sum()\n",
    "print(f\"Missing Values in each Column:\\n{missing_values}\")\n",
    "\n",
    "# Generate summary statistics\n",
    "summary_stats = df.describe()\n",
    "print (f\"Summary Statistics:\\n{summary_stats}\")"
   ]
  },
  {
   "cell_type": "markdown",
   "id": "ec945d85",
   "metadata": {},
   "source": [
    "### Reflection 1:\n",
    "- What do you notice about the dataset? Are there any data issues? I notice that there are no null values and that the dataset is primarily float numbers except class which are integers. I can see it is a rather large dataset with 1372 rows. "
   ]
  },
  {
   "cell_type": "markdown",
   "id": "71421f4f",
   "metadata": {},
   "source": [
    "## Section 2: Data Exploration and Preparation"
   ]
  },
  {
   "cell_type": "markdown",
   "id": "557a9561",
   "metadata": {},
   "source": [
    "### Section 2.1 Explore data patterns and distributions"
   ]
  },
  {
   "cell_type": "code",
   "execution_count": 56,
   "id": "c80f2da4",
   "metadata": {},
   "outputs": [
    {
     "data": {
      "text/plain": [
       "<function matplotlib.pyplot.show(close=None, block=None)>"
      ]
     },
     "execution_count": 56,
     "metadata": {},
     "output_type": "execute_result"
    },
    {
     "data": {
      "image/png": "[encoded data removed]",
      "text/plain": [
       "<Figure size 1000x800 with 6 Axes>"
      ]
     },
     "metadata": {},
     "output_type": "display_data"
    }
   ],
   "source": [
    "# Create a Histo visualization feature distributions\n",
    "df.hist(bins=30, figsize=(10, 8))\n",
    "plt.suptitle('Histograms Feature Distributions')\n",
    "plt.show"
   ]
  },
  {
   "cell_type": "code",
   "execution_count": 57,
   "id": "fdce24b3",
   "metadata": {},
   "outputs": [
    {
     "data": {
      "image/png": "[encoded data removed]",
      "text/plain": [
       "<Figure size 1000x800 with 1 Axes>"
      ]
     },
     "metadata": {},
     "output_type": "display_data"
    }
   ],
   "source": [
    "# Create a box plot to show outliers\n",
    "plt.figure(figsize=(10,8))\n",
    "sns.boxplot(df)\n",
    "plt.title(\"Box Plot for Features\")\n",
    "plt.tight_layout()\n",
    "plt.show()\n"
   ]
  },
  {
   "cell_type": "code",
   "execution_count": 58,
   "id": "c455e0cb",
   "metadata": {},
   "outputs": [
    {
     "name": "stdout",
     "output_type": "stream",
     "text": [
      "Number of Outliers: 36\n",
      "      variance  skewness   curtosis  entropy  class\n",
      "45    -0.78690    9.5663  -3.786700 -7.50340      0\n",
      "47    -0.78690    9.5663  -3.786700 -7.50340      0\n",
      "194   -2.34100   12.3784   0.704030 -7.58360      0\n",
      "202   -0.78689    9.5663  -3.786700 -7.50340      0\n",
      "291   -2.21530   11.9625   0.078538 -7.78530      0\n",
      "394   -2.26230   12.1177   0.288460 -7.75810      0\n",
      "465   -2.69890   12.1984   0.676610 -8.54820      0\n",
      "529   -1.38850   12.5026   0.691180 -7.54870      0\n",
      "562   -2.46040   12.7302   0.917380 -7.64180      0\n",
      "581   -1.96670   11.8052  -0.404720 -7.87190      0\n",
      "740   -2.44730   12.6247   0.735730 -7.66120      0\n",
      "765   -3.84830  -12.8047  15.682400 -1.28100      1\n",
      "820   -4.00250  -13.4979  17.677200 -3.32020      1\n",
      "826   -4.21100  -12.4736  14.970400 -1.38840      1\n",
      "881   -4.48610  -13.2889  17.308700 -3.21940      1\n",
      "887   -3.26920  -12.7406  15.557300 -0.14182      1\n",
      "942   -3.37930  -13.7731  17.927400 -2.03230      1\n",
      "948   -3.49170  -12.1736  14.368900 -0.61639      1\n",
      "974   -5.03010    7.5032  -0.133960 -7.50340      1\n",
      "1003  -3.82030  -13.0551  16.958300 -2.30520      1\n",
      "1009  -3.57130  -12.4922  14.888100 -0.47027      1\n",
      "1064  -3.69610  -13.6779  17.579500 -2.61810      1\n",
      "1070  -3.14230  -13.0365  15.677300 -0.66165      1\n",
      "1125  -3.59850  -13.6593  17.605200 -2.49270      1\n",
      "1131  -4.02140  -12.8006  15.619900 -0.95647      1\n",
      "1142  -6.57730    6.8017   0.854830 -7.53440      1\n",
      "1186  -4.24400  -13.0634  17.111600 -2.80170      1\n",
      "1192  -4.40180  -12.9371  15.655900 -1.68060      1\n",
      "1203  -6.73870    6.9879   0.678330 -7.58870      1\n",
      "1218  -5.44140    7.2363   0.109380 -7.56420      1\n",
      "1247  -4.47750  -13.0303  17.083400 -3.03450      1\n",
      "1253  -4.55310  -12.5854  15.441700 -1.49830      1\n",
      "1264  -6.65100    6.7934   0.686040 -7.58870      1\n",
      "1308  -4.63380  -12.7509  16.716600 -3.21680      1\n",
      "1314  -3.50600  -12.5667  15.160600 -0.75216      1\n",
      "1369  -3.75030  -13.4586  17.593200 -2.77710      1\n"
     ]
    }
   ],
   "source": [
    "# Check for skewness and outliers using Z-scores\n",
    "z_scores = zscore(df)\n",
    "outliers = (abs(z_scores) > 3).any(axis=1)\n",
    "\n",
    "# Display outliers\n",
    "outlier_rows = df[outliers]\n",
    "print(f\"Number of Outliers: {len(outlier_rows)}\")\n",
    "print(outlier_rows)"
   ]
  },
  {
   "cell_type": "markdown",
   "id": "8732b091",
   "metadata": {},
   "source": [
    "### Section 2.2 Handle missing values and clean data"
   ]
  },
  {
   "cell_type": "markdown",
   "id": "17085078",
   "metadata": {},
   "source": [
    "There are no missing values, no categorical data and only 36 outliers out of the 1372 rows of data. I think it would be beneficial to keep those outliers so it will not skew any results."
   ]
  },
  {
   "cell_type": "markdown",
   "id": "e635874d",
   "metadata": {},
   "source": [
    "### Section 2.3 Features selection and engineering"
   ]
  },
  {
   "cell_type": "code",
   "execution_count": 59,
   "id": "8daac487",
   "metadata": {},
   "outputs": [],
   "source": [
    "# Create new features\n",
    "\n",
    "# New Feature 1: A feature that is an interaction between variance and skewness\n",
    "df['var_skew_interaction'] = df['variance'] * df['skewness']\n"
   ]
  },
  {
   "cell_type": "code",
   "execution_count": 60,
   "id": "7f9bc340",
   "metadata": {},
   "outputs": [
    {
     "name": "stdout",
     "output_type": "stream",
     "text": [
      "   variance  skewness  curtosis  entropy  class  var_skew_interaction\n",
      "0   3.62160    8.6661   -2.8073 -0.44699      0             31.385148\n",
      "1   4.54590    8.1674   -2.4586 -1.46210      0             37.128184\n",
      "2   3.86600   -2.6383    1.9242  0.10645      0            -10.199668\n",
      "3   3.45660    9.5228   -4.0112 -3.59440      0             32.916510\n",
      "4   0.32924   -4.4552    4.5718 -0.98880      0             -1.466830\n"
     ]
    }
   ],
   "source": [
    "# Scale and normalize data\n",
    "\n",
    "# Standardization (Z-score scaling)\n",
    "scaler = StandardScaler()\n",
    "df_scaled = df.copy()\n",
    "df_scaled[['variance', 'skewness', 'curtosis', 'entropy']] = scaler.fit_transform(df_scaled[['variance', 'skewness', 'curtosis', 'entropy']])\n",
    "\n",
    "# Normalization (Min-Max scaling)\n",
    "from sklearn.preprocessing import MinMaxScaler\n",
    "min_max_scaler = MinMaxScaler()\n",
    "df_normalized = df.copy()\n",
    "df_normalized[['variance', 'skewness', 'curtosis', 'entropy']] = min_max_scaler.fit_transform(df_normalized[['variance', 'skewness', 'curtosis', 'entropy']])\n",
    "\n",
    "print(df.head())"
   ]
  },
  {
   "cell_type": "markdown",
   "id": "617a4b81",
   "metadata": {},
   "source": [
    "### Reflection 2\n",
    "- What pattern onomolies od you see? I did not see really many anomolies. I found around 36 total outliers. Hopefully graphing these regression will showcase more and give me better insights. \n",
    "- Do any features stand out? Variance and skewness I am very curious about var_skew_interaction since I am curious on how those two interplay with each other.\n",
    "- What preprocessing steps were necessary to clean and improve the data? The data was actually very clean. I did not have to do much to it. I changed a few things and created some new features so I could gather more insights. \n",
    "- Did you create or modify any features to improve performance? Yes I created a polynomial of skewness and a variance/skew interaction feature."
   ]
  },
  {
   "cell_type": "markdown",
   "id": "b3c06bd8",
   "metadata": {},
   "source": [
    "## Section 3: Feature Selection and Justification"
   ]
  },
  {
   "cell_type": "markdown",
   "id": "0130cfaf",
   "metadata": {},
   "source": [
    "### Section 3.1 Choose Features and Target"
   ]
  },
  {
   "cell_type": "markdown",
   "id": "b5a0c2d6",
   "metadata": {},
   "source": [
    "##### The target variable(y)will be class. It is a categorical variable that indicates whether a banknote is genuine(0) or fake (1)\n",
    "\n",
    "##### The selected features(X):\n",
    "- variance: wavelet image variance\n",
    "- skewness: skewness of the image wavelet distribution\n",
    "- var_skew_interaction: capture the relationship between var and skew (Non-linear)\n",
    "- skewness^2: for models that are not inherently non-linear"
   ]
  },
  {
   "cell_type": "code",
   "execution_count": 61,
   "id": "f3282298",
   "metadata": {},
   "outputs": [],
   "source": [
    "# Define Case 1: variance \n",
    "X1 = df[['variance']]\n",
    "y1 = df['class']\n",
    "\n",
    "# Define Case 2: skewness\n",
    "X2 = df[['skewness']]\n",
    "y2 = df['class']\n",
    "\n",
    "X3 = df[['var_skew_interaction']]\n",
    "y3 = df['class']\n"
   ]
  },
  {
   "cell_type": "markdown",
   "id": "13529068",
   "metadata": {},
   "source": [
    "### Reflection 3\n",
    "- Why did you choose these features? I chose these features because I figured they would be great at finding any patterns and training the models. I also created features to add some complexity incase we find any non-linear patterns. \n",
    "- How might they impact predictions or accuracy? With different features we can adjust and combine them to find the best outcome of creating a model that can find indicators of Forged vs real banknotes."
   ]
  },
  {
   "cell_type": "markdown",
   "id": "1b007d56",
   "metadata": {},
   "source": [
    "## Section 4 Train a Model (Logistic Regression)"
   ]
  },
  {
   "cell_type": "markdown",
   "id": "e4dbd53f",
   "metadata": {},
   "source": [
    "### 4.1/4.2 Split the data and train the model"
   ]
  },
  {
   "cell_type": "code",
   "execution_count": 62,
   "id": "c1a000cd",
   "metadata": {},
   "outputs": [],
   "source": [
    "# Create function to evaluate each case\n",
    "def evaluate_feature_case(X, y, case_name=\"Feature Case\"):\n",
    "    # Split data\n",
    "    X_train, X_test, y_train, y_test = train_test_split(X, y, test_size=0.2, random_state=42, stratify=y)\n",
    "    \n",
    "    # Train the log regression model\n",
    "    logr_model = LogisticRegression()\n",
    "    logr_model.fit(X_train, y_train)\n",
    "\n",
    "    # Predictions\n",
    "    y_pred = logr_model.predict(X_test)\n",
    "\n",
    "    # Evaluation metrics\n",
    "    accuracy = accuracy_score(y_test, y_pred)\n",
    "    precision = precision_score(y_test, y_pred)\n",
    "    recall = recall_score(y_test, y_pred)\n",
    "    f1 = f1_score(y_test, y_pred)\n",
    "    conf_matrix = confusion_matrix(y_test, y_pred)\n",
    "\n",
    "    # Display Classification performance\n",
    "    print(f\"\\n {case_name}\")\n",
    "    print(\"-----------------\")\n",
    "    print(\"Accuracy :\", accuracy)\n",
    "    print(\"Precision :\", precision)\n",
    "    print(\"Recall :\", recall)\n",
    "    print(\"F1 Score :\", f1)\n",
    "    print(\"Confusion Matrix:\\n\", conf_matrix)"
   ]
  },
  {
   "cell_type": "code",
   "execution_count": 63,
   "id": "74d47719",
   "metadata": {},
   "outputs": [
    {
     "name": "stdout",
     "output_type": "stream",
     "text": [
      "\n",
      " Case 1: Variance\n",
      "-----------------\n",
      "Accuracy : 0.8618181818181818\n",
      "Precision : 0.8387096774193549\n",
      "Recall : 0.8524590163934426\n",
      "F1 Score : 0.8455284552845529\n",
      "Confusion Matrix:\n",
      " [[133  20]\n",
      " [ 18 104]]\n",
      "\n",
      " Case 2: Skewness\n",
      "-----------------\n",
      "Accuracy : 0.6690909090909091\n",
      "Precision : 0.6565656565656566\n",
      "Recall : 0.5327868852459017\n",
      "F1 Score : 0.5882352941176471\n",
      "Confusion Matrix:\n",
      " [[119  34]\n",
      " [ 57  65]]\n",
      "\n",
      " Case 3: Var * Skew Interaction\n",
      "-----------------\n",
      "Accuracy : 0.5563636363636364\n",
      "Precision : 0.5\n",
      "Recall : 0.13114754098360656\n",
      "F1 Score : 0.2077922077922078\n",
      "Confusion Matrix:\n",
      " [[137  16]\n",
      " [106  16]]\n"
     ]
    }
   ],
   "source": [
    "# Case 1: variance\n",
    "evaluate_feature_case(X1, y1, case_name=\"Case 1: Variance\")\n",
    "\n",
    "# Case 2: skewness\n",
    "evaluate_feature_case(X2, y2, case_name=\"Case 2: Skewness\")\n",
    "\n",
    "# Case 3: var_skew_interaction\n",
    "evaluate_feature_case(X3, y3, case_name=\"Case 3: Var * Skew Interaction\")\n",
    "\n"
   ]
  },
  {
   "cell_type": "code",
   "execution_count": null,
   "id": "3e37463d",
   "metadata": {},
   "outputs": [
    {
     "name": "stdout",
     "output_type": "stream",
     "text": [
      "Index(['variance', 'skewness', 'curtosis', 'entropy', 'class',\n",
      "       'var_skew_interaction'],\n",
      "      dtype='object')\n"
     ]
    }
   ],
   "source": [
    "# Combine all features to see evaluation\n",
    "X_combo = df[['variance', 'skewness', 'var_skew_interaction']]\n",
    "y_combo = df['class']\n",
    "\n",
    "evaluate_feature_case(X_combo, y_combo, case_name=\"Combo: Variance + Skewness + Interaction\")\n"
   ]
  },
  {
   "cell_type": "code",
   "execution_count": null,
   "id": "efad13f6",
   "metadata": {},
   "outputs": [],
   "source": []
  }
 ],
 "metadata": {
  "kernelspec": {
   "display_name": ".venv",
   "language": "python",
   "name": "python3"
  },
  "language_info": {
   "codemirror_mode": {
    "name": "ipython",
    "version": 3
   },
   "file_extension": ".py",
   "mimetype": "text/x-python",
   "name": "python",
   "nbconvert_exporter": "python",
   "pygments_lexer": "ipython3",
   "version": "3.12.5"
  }
 },
 "nbformat": 4,
 "nbformat_minor": 5
}
