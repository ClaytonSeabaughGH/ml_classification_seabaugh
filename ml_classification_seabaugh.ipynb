{
 "cells": [
  {
   "cell_type": "markdown",
   "id": "783e8e71",
   "metadata": {},
   "source": [
    "# Clayton Seabaugh: Midterm Project\n",
    "**Author:** Clayton Seabaugh  \n",
    "**Date:** 3-6-2025  \n",
    "**Objective:** This project demonstrates my ability to apply classification modeling techniques to a real-world dataset. "
   ]
  },
  {
   "cell_type": "markdown",
   "id": "739cf535",
   "metadata": {},
   "source": [
    "## Section 1: Import and Inspect the Data"
   ]
  },
  {
   "cell_type": "code",
   "execution_count": 9,
   "id": "97f61b80",
   "metadata": {},
   "outputs": [],
   "source": [
    "# Imports needed\n",
    "import seaborn as sns\n",
    "import pandas as pd\n",
    "import matplotlib.pyplot as plt\n",
    "import os"
   ]
  },
  {
   "cell_type": "code",
   "execution_count": 16,
   "id": "398053ef",
   "metadata": {},
   "outputs": [
    {
     "name": "stdout",
     "output_type": "stream",
     "text": [
      "   variance  skewness  curtiosis  entropy  class\n",
      "0   3.62160    8.6661   -2.80730 -0.44699      0\n",
      "1   4.54590    8.1674   -2.45860 -1.46210      0\n",
      "2   3.86600   -2.6383    1.92420  0.10645      0\n",
      "3   3.45660    9.5228   -4.01120 -3.59440      0\n",
      "4   0.32924   -4.4552    4.57180 -0.98880      0\n",
      "5   4.36840    9.6718   -3.96060 -3.16250      0\n",
      "6   3.59120    3.0129    0.72888  0.56421      0\n",
      "7   2.09220   -6.8100    8.46360 -0.60216      0\n",
      "8   3.20320    5.7588   -0.75345 -0.61251      0\n",
      "9   1.53560    9.1772   -2.27180 -0.73535      0\n"
     ]
    },
    {
     "name": "stderr",
     "output_type": "stream",
     "text": [
      "<>:2: SyntaxWarning: invalid escape sequence '\\d'\n",
      "<>:2: SyntaxWarning: invalid escape sequence '\\d'\n",
      "C:\\Users\\clayt\\AppData\\Local\\Temp\\ipykernel_15808\\1813290752.py:2: SyntaxWarning: invalid escape sequence '\\d'\n",
      "  file_path = 'data\\data_banknote_authentication.txt'\n"
     ]
    }
   ],
   "source": [
    "# Create file path for data and print head\n",
    "file_path = 'data\\data_banknote_authentication.txt'\n",
    "if os.path.exists(file_path):\n",
    "    df = pd.read_csv(file_path)\n",
    "    print(df.head(10))\n",
    "else:\n",
    "    print(f\"File {file_path} does not exist.\")\n",
    "\n",
    "\n",
    "\n"
   ]
  },
  {
   "cell_type": "code",
   "execution_count": null,
   "id": "8cbe14e7",
   "metadata": {},
   "outputs": [],
   "source": []
  }
 ],
 "metadata": {
  "kernelspec": {
   "display_name": ".venv",
   "language": "python",
   "name": "python3"
  },
  "language_info": {
   "codemirror_mode": {
    "name": "ipython",
    "version": 3
   },
   "file_extension": ".py",
   "mimetype": "text/x-python",
   "name": "python",
   "nbconvert_exporter": "python",
   "pygments_lexer": "ipython3",
   "version": "3.12.5"
  }
 },
 "nbformat": 4,
 "nbformat_minor": 5
}
